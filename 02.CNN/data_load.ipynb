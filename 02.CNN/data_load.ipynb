{
 "cells": [
  {
   "cell_type": "markdown",
   "id": "88c08c6b-1c3d-4966-885f-3d7f6896eb3c",
   "metadata": {},
   "source": [
    "## Data Load"
   ]
  },
  {
   "cell_type": "code",
   "execution_count": 1,
   "id": "b9dee3a4-ba0d-4871-bd67-f9bdfae14ccb",
   "metadata": {},
   "outputs": [
    {
     "name": "stdout",
     "output_type": "stream",
     "text": [
      "--2021-04-29 01:15:28--  https://storage.googleapis.com/mledu-datasets/cats_and_dogs_filtered.zip\n",
      "storage.googleapis.com (storage.googleapis.com)을(를) 해석하는 중... 34.64.4.48, 34.64.4.112, 34.64.4.80, ...\n",
      "접속 storage.googleapis.com (storage.googleapis.com)|34.64.4.48|:443... 접속됨.\n",
      "HTTP 요청을 전송했습니다. 응답을 기다리는 중입니다... 200 OK\n",
      "길이: 68606236 (65M) [application/zip]\n",
      "다음 위치에 저장: `/tmp/cats_and_dogs_filtered.zip'\n",
      "\n",
      "/tmp/cats_and_dogs_ 100%[===================>]  65.43M  10.1MB/s    / 7.8s     \n",
      "\n",
      "2021-04-29 01:15:36 (8.34 MB/s) - `/tmp/cats_and_dogs_filtered.zip' 저장됨 [68606236/68606236]\n",
      "\n"
     ]
    }
   ],
   "source": [
    "!wget --no-check-certificate \\\n",
    "  https://storage.googleapis.com/mledu-datasets/cats_and_dogs_filtered.zip \\\n",
    "  -O /tmp/cats_and_dogs_filtered.zip"
   ]
  },
  {
   "cell_type": "code",
   "execution_count": 2,
   "id": "252e0529-f42c-4b46-b5dd-5ac26481c25f",
   "metadata": {},
   "outputs": [],
   "source": [
    "import os\n",
    "import zipfile\n",
    "\n",
    "local_zip = '/tmp/cats_and_dogs_filtered.zip'\n",
    "\n",
    "zip_ref = zipfile.ZipFile(local_zip, 'r')\n",
    "\n",
    "zip_ref.extractall('./data')\n",
    "zip_ref.close()"
   ]
  },
  {
   "cell_type": "code",
   "execution_count": null,
   "id": "6fc2bfa3-00b1-4a1d-8add-5eac5d1392a7",
   "metadata": {},
   "outputs": [],
   "source": []
  }
 ],
 "metadata": {
  "kernelspec": {
   "display_name": "Python 3",
   "language": "python",
   "name": "python3"
  },
  "language_info": {
   "codemirror_mode": {
    "name": "ipython",
    "version": 3
   },
   "file_extension": ".py",
   "mimetype": "text/x-python",
   "name": "python",
   "nbconvert_exporter": "python",
   "pygments_lexer": "ipython3",
   "version": "3.8.8"
  }
 },
 "nbformat": 4,
 "nbformat_minor": 5
}
