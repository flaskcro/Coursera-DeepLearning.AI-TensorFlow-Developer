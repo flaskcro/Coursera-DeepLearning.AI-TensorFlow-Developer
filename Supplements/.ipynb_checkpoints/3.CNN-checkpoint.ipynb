{
 "cells": [
  {
   "cell_type": "markdown",
   "id": "861b942c-f4fe-43ba-b50b-5f77900737f7",
   "metadata": {},
   "source": [
    "## Fashion MNIST"
   ]
  },
  {
   "cell_type": "code",
   "execution_count": 8,
   "id": "7f3b9710-e514-4107-92e5-6a9dea3298fa",
   "metadata": {},
   "outputs": [],
   "source": [
    "import numpy as np\n",
    "import matplotlib.pyplot as plt\n",
    "\n",
    "from tensorflow.keras.datasets.fashion_mnist import load_data\n",
    "from tensorflow.keras.utils import to_categorical\n",
    "from sklearn.model_selection import train_test_split\n",
    "\n",
    "from tensorflow.keras.models import Sequential\n",
    "from tensorflow.keras.layers import Conv2D, MaxPool2D, Dense, Flatten"
   ]
  },
  {
   "cell_type": "code",
   "execution_count": 9,
   "id": "b57b31f2-8f25-4c87-a43e-0e6ddeb1ffd6",
   "metadata": {},
   "outputs": [
    {
     "data": {
      "image/png": "[encoded data removed]",
      "text/plain": [
       "<Figure size 432x432 with 9 Axes>"
      ]
     },
     "metadata": {
      "needs_background": "light"
     },
     "output_type": "display_data"
    }
   ],
   "source": [
    "(X_train, y_train), (X_test, y_test) = load_data()\n",
    "class_names = ['T-Shirt/Top', 'Trouser', 'Pullover', 'Dress', 'Coat', 'Sandal', 'Shirt', \n",
    "               'Sneaker', 'Bag', 'Ankle boot']\n",
    "\n",
    "sample_size = 9\n",
    "random_idx = np.random.randint(len(X_train), size=sample_size)\n",
    "\n",
    "plt.figure(figsize=(6,6))\n",
    "for i, idx in enumerate(random_idx):\n",
    "    plt.xticks([])\n",
    "    plt.yticks([])\n",
    "    plt.subplot(3, 3, i+1)\n",
    "    plt.imshow(X_train[i], cmap='gray')\n",
    "    plt.xlabel(class_names[y_train[i]])\n",
    "plt.show()\n",
    "\n",
    "X_train = np.reshape(X_train / 255, (-1,28,28,1))\n",
    "X_test = np.reshape(X_test / 255, (-1,28,28,1))\n",
    "\n",
    "y_train = to_categorical(y_train)\n",
    "y_test = to_categorical(y_test)\n",
    "\n",
    "X_train, X_val, y_train, y_val = train_test_split(X_train, y_train, test_size=.3)"
   ]
  },
  {
   "cell_type": "code",
   "execution_count": 11,
   "id": "3b67f488-0f45-43f4-808d-35235b94e2a9",
   "metadata": {},
   "outputs": [],
   "source": [
    "model = Sequential([\n",
    "    Conv2D(filters=16, kernel_size=3, padding='same', activation='relu', \n",
    "           input_shape=(28,28,1)),\n",
    "    MaxPool2D(pool_size=(2,2), strides=2, padding='same'),\n",
    "    Conv2D(filters=32, kernel_size=3, padding='same', activation='relu'),\n",
    "    MaxPool2D(pool_size=(2,2), strides=2, padding='same'),\n",
    "    Conv2D(filters=64, kernel_size=3, padding='same', activation='relu'),\n",
    "    MaxPool2D(pool_size=(2,2), strides=2, padding='same'),\n",
    "    Flatten(),\n",
    "    Dense(64, activation='relu'),\n",
    "    Dense(10, activation='softmax')\n",
    "])"
   ]
  },
  {
   "cell_type": "code",
   "execution_count": 12,
   "id": "65e2f0d0-942a-49a7-bf48-55f62e42100f",
   "metadata": {},
   "outputs": [
    {
     "name": "stdout",
     "output_type": "stream",
     "text": [
      "Model: \"sequential\"\n",
      "_________________________________________________________________\n",
      "Layer (type)                 Output Shape              Param #   \n",
      "=================================================================\n",
      "conv2d (Conv2D)              (None, 28, 28, 16)        160       \n",
      "_________________________________________________________________\n",
      "max_pooling2d (MaxPooling2D) (None, 14, 14, 16)        0         \n",
      "_________________________________________________________________\n",
      "conv2d_1 (Conv2D)            (None, 14, 14, 32)        4640      \n",
      "_________________________________________________________________\n",
      "max_pooling2d_1 (MaxPooling2 (None, 7, 7, 32)          0         \n",
      "_________________________________________________________________\n",
      "conv2d_2 (Conv2D)            (None, 7, 7, 64)          18496     \n",
      "_________________________________________________________________\n",
      "max_pooling2d_2 (MaxPooling2 (None, 4, 4, 64)          0         \n",
      "_________________________________________________________________\n",
      "flatten (Flatten)            (None, 1024)              0         \n",
      "_________________________________________________________________\n",
      "dense (Dense)                (None, 64)                65600     \n",
      "_________________________________________________________________\n",
      "dense_1 (Dense)              (None, 10)                650       \n",
      "=================================================================\n",
      "Total params: 89,546\n",
      "Trainable params: 89,546\n",
      "Non-trainable params: 0\n",
      "_________________________________________________________________\n"
     ]
    }
   ],
   "source": [
    "model.summary()"
   ]
  },
  {
   "cell_type": "code",
   "execution_count": 13,
   "id": "7ce90167-7a33-4798-a81e-833a518e7add",
   "metadata": {},
   "outputs": [],
   "source": [
    "model.compile(optimizer='adam', loss='categorical_crossentropy', metrics=['accuracy'])"
   ]
  },
  {
   "cell_type": "code",
   "execution_count": 14,
   "id": "1347eec2-875d-48dd-8fbc-ced69a506b98",
   "metadata": {},
   "outputs": [
    {
     "name": "stdout",
     "output_type": "stream",
     "text": [
      "Epoch 1/30\n",
      "329/329 [==============================] - 10s 29ms/step - loss: 0.9640 - accuracy: 0.6609 - val_loss: 0.4204 - val_accuracy: 0.8529\n",
      "Epoch 2/30\n",
      "329/329 [==============================] - 9s 28ms/step - loss: 0.3940 - accuracy: 0.8589 - val_loss: 0.3624 - val_accuracy: 0.8722\n",
      "Epoch 3/30\n",
      "329/329 [==============================] - 9s 29ms/step - loss: 0.3364 - accuracy: 0.8790 - val_loss: 0.3821 - val_accuracy: 0.8557\n",
      "Epoch 4/30\n",
      "329/329 [==============================] - 10s 29ms/step - loss: 0.3084 - accuracy: 0.8888 - val_loss: 0.3053 - val_accuracy: 0.8897\n",
      "Epoch 5/30\n",
      "329/329 [==============================] - 10s 29ms/step - loss: 0.2761 - accuracy: 0.8984 - val_loss: 0.3206 - val_accuracy: 0.8853\n",
      "Epoch 6/30\n",
      "329/329 [==============================] - 10s 29ms/step - loss: 0.2658 - accuracy: 0.9028 - val_loss: 0.2791 - val_accuracy: 0.8999\n",
      "Epoch 7/30\n",
      "329/329 [==============================] - 10s 30ms/step - loss: 0.2522 - accuracy: 0.9086 - val_loss: 0.2706 - val_accuracy: 0.9038\n",
      "Epoch 8/30\n",
      "329/329 [==============================] - 10s 30ms/step - loss: 0.2259 - accuracy: 0.9184 - val_loss: 0.2642 - val_accuracy: 0.9059\n",
      "Epoch 9/30\n",
      "329/329 [==============================] - 10s 29ms/step - loss: 0.2194 - accuracy: 0.9203 - val_loss: 0.2638 - val_accuracy: 0.9039\n",
      "Epoch 10/30\n",
      "329/329 [==============================] - 10s 29ms/step - loss: 0.2067 - accuracy: 0.9243 - val_loss: 0.2556 - val_accuracy: 0.9063\n",
      "Epoch 11/30\n",
      "329/329 [==============================] - 10s 29ms/step - loss: 0.1946 - accuracy: 0.9278 - val_loss: 0.2441 - val_accuracy: 0.9134\n",
      "Epoch 12/30\n",
      "329/329 [==============================] - 10s 29ms/step - loss: 0.1818 - accuracy: 0.9339 - val_loss: 0.2449 - val_accuracy: 0.9131\n",
      "Epoch 13/30\n",
      "329/329 [==============================] - 11s 33ms/step - loss: 0.1698 - accuracy: 0.9383 - val_loss: 0.2405 - val_accuracy: 0.9149\n",
      "Epoch 14/30\n",
      "329/329 [==============================] - 10s 31ms/step - loss: 0.1619 - accuracy: 0.9410 - val_loss: 0.2504 - val_accuracy: 0.9108\n",
      "Epoch 15/30\n",
      "329/329 [==============================] - 9s 28ms/step - loss: 0.1550 - accuracy: 0.9432 - val_loss: 0.2728 - val_accuracy: 0.9073\n",
      "Epoch 16/30\n",
      "329/329 [==============================] - 9s 28ms/step - loss: 0.1480 - accuracy: 0.9456 - val_loss: 0.2808 - val_accuracy: 0.9097\n",
      "Epoch 17/30\n",
      "329/329 [==============================] - 9s 29ms/step - loss: 0.1400 - accuracy: 0.9487 - val_loss: 0.2461 - val_accuracy: 0.9179\n",
      "Epoch 18/30\n",
      "329/329 [==============================] - 9s 28ms/step - loss: 0.1322 - accuracy: 0.9518 - val_loss: 0.2489 - val_accuracy: 0.9172\n",
      "Epoch 19/30\n",
      "329/329 [==============================] - 9s 29ms/step - loss: 0.1173 - accuracy: 0.9565 - val_loss: 0.2508 - val_accuracy: 0.9193\n",
      "Epoch 20/30\n",
      "329/329 [==============================] - 9s 28ms/step - loss: 0.1252 - accuracy: 0.9531 - val_loss: 0.2585 - val_accuracy: 0.9194\n",
      "Epoch 21/30\n",
      "329/329 [==============================] - 9s 28ms/step - loss: 0.1084 - accuracy: 0.9592 - val_loss: 0.2603 - val_accuracy: 0.9157\n",
      "Epoch 22/30\n",
      "329/329 [==============================] - 10s 29ms/step - loss: 0.0987 - accuracy: 0.9636 - val_loss: 0.2858 - val_accuracy: 0.9159\n",
      "Epoch 23/30\n",
      "329/329 [==============================] - 9s 28ms/step - loss: 0.1017 - accuracy: 0.9645 - val_loss: 0.2957 - val_accuracy: 0.9117\n",
      "Epoch 24/30\n",
      "329/329 [==============================] - 9s 28ms/step - loss: 0.0865 - accuracy: 0.9691 - val_loss: 0.2825 - val_accuracy: 0.9188\n",
      "Epoch 25/30\n",
      "329/329 [==============================] - 9s 28ms/step - loss: 0.0812 - accuracy: 0.9701 - val_loss: 0.3183 - val_accuracy: 0.9033\n",
      "Epoch 26/30\n",
      "329/329 [==============================] - 9s 29ms/step - loss: 0.0795 - accuracy: 0.9719 - val_loss: 0.2990 - val_accuracy: 0.9155\n",
      "Epoch 27/30\n",
      "329/329 [==============================] - 10s 30ms/step - loss: 0.0740 - accuracy: 0.9725 - val_loss: 0.3216 - val_accuracy: 0.9158\n",
      "Epoch 28/30\n",
      "329/329 [==============================] - 10s 31ms/step - loss: 0.0688 - accuracy: 0.9749 - val_loss: 0.3354 - val_accuracy: 0.9151\n",
      "Epoch 29/30\n",
      "329/329 [==============================] - 10s 31ms/step - loss: 0.0668 - accuracy: 0.9749 - val_loss: 0.3463 - val_accuracy: 0.9142\n",
      "Epoch 30/30\n",
      "329/329 [==============================] - 10s 31ms/step - loss: 0.0542 - accuracy: 0.9803 - val_loss: 0.3350 - val_accuracy: 0.9137\n"
     ]
    },
    {
     "data": {
      "text/plain": [
       "<tensorflow.python.keras.callbacks.History at 0x7fc0e95fc460>"
      ]
     },
     "execution_count": 14,
     "metadata": {},
     "output_type": "execute_result"
    }
   ],
   "source": [
    "model.fit(X_train, y_train, epochs=30, batch_size=128, validation_data=(X_val, y_val))"
   ]
  },
  {
   "cell_type": "code",
   "execution_count": 15,
   "id": "180aa95f-a18b-4c07-825e-600c1f5020b3",
   "metadata": {},
   "outputs": [
    {
     "name": "stdout",
     "output_type": "stream",
     "text": [
      "313/313 [==============================] - 1s 3ms/step - loss: 0.3605 - accuracy: 0.9070\n"
     ]
    },
    {
     "data": {
      "text/plain": [
       "[0.3604922294616699, 0.9070000052452087]"
      ]
     },
     "execution_count": 15,
     "metadata": {},
     "output_type": "execute_result"
    }
   ],
   "source": [
    "model.evaluate(X_test, y_test)"
   ]
  },
  {
   "cell_type": "code",
   "execution_count": null,
   "id": "7a48b32c-fa6b-4e9d-89c5-8659f109fa3e",
   "metadata": {},
   "outputs": [],
   "source": []
  }
 ],
 "metadata": {
  "kernelspec": {
   "display_name": "Python 3",
   "language": "python",
   "name": "python3"
  },
  "language_info": {
   "codemirror_mode": {
    "name": "ipython",
    "version": 3
   },
   "file_extension": ".py",
   "mimetype": "text/x-python",
   "name": "python",
   "nbconvert_exporter": "python",
   "pygments_lexer": "ipython3",
   "version": "3.8.8"
  }
 },
 "nbformat": 4,
 "nbformat_minor": 5
}
